{
 "cells": [
  {
   "cell_type": "markdown",
   "metadata": {},
   "source": [
    "*JJ McCauley*"
   ]
  },
  {
   "cell_type": "markdown",
   "metadata": {},
   "source": [
    "# Classification on the Breast Cancer Dataset\n",
    "### Optimizing a Baseline Classifier"
   ]
  },
  {
   "cell_type": "code",
   "execution_count": 33,
   "metadata": {},
   "outputs": [
    {
     "name": "stdout",
     "output_type": "stream",
     "text": [
      "30\n",
      "[[1.799e+01 1.038e+01 1.228e+02 ... 2.654e-01 4.601e-01 1.189e-01]\n",
      " [2.057e+01 1.777e+01 1.329e+02 ... 1.860e-01 2.750e-01 8.902e-02]\n",
      " [1.969e+01 2.125e+01 1.300e+02 ... 2.430e-01 3.613e-01 8.758e-02]\n",
      " ...\n",
      " [1.660e+01 2.808e+01 1.083e+02 ... 1.418e-01 2.218e-01 7.820e-02]\n",
      " [2.060e+01 2.933e+01 1.401e+02 ... 2.650e-01 4.087e-01 1.240e-01]\n",
      " [7.760e+00 2.454e+01 4.792e+01 ... 0.000e+00 2.871e-01 7.039e-02]] \n",
      " [0 0 0 0 0 0 0 0 0 0 0 0 0 0 0 0 0 0 0 1 1 1 0 0 0 0 0 0 0 0 0 0 0 0 0 0 0\n",
      " 1 0 0 0 0 0 0 0 0 1 0 1 1 1 1 1 0 0 1 0 0 1 1 1 1 0 1 0 0 1 1 1 1 0 1 0 0\n",
      " 1 0 1 0 0 1 1 1 0 0 1 0 0 0 1 1 1 0 1 1 0 0 1 1 1 0 0 1 1 1 1 0 1 1 0 1 1\n",
      " 1 1 1 1 1 1 0 0 0 1 0 0 1 1 1 0 0 1 0 1 0 0 1 0 0 1 1 0 1 1 0 1 1 1 1 0 1\n",
      " 1 1 1 1 1 1 1 1 0 1 1 1 1 0 0 1 0 1 1 0 0 1 1 0 0 1 1 1 1 0 1 1 0 0 0 1 0\n",
      " 1 0 1 1 1 0 1 1 0 0 1 0 0 0 0 1 0 0 0 1 0 1 0 1 1 0 1 0 0 0 0 1 1 0 0 1 1\n",
      " 1 0 1 1 1 1 1 0 0 1 1 0 1 1 0 0 1 0 1 1 1 1 0 1 1 1 1 1 0 1 0 0 0 0 0 0 0\n",
      " 0 0 0 0 0 0 0 1 1 1 1 1 1 0 1 0 1 1 0 1 1 0 1 0 0 1 1 1 1 1 1 1 1 1 1 1 1\n",
      " 1 0 1 1 0 1 0 1 1 1 1 1 1 1 1 1 1 1 1 1 1 0 1 1 1 0 1 0 1 1 1 1 0 0 0 1 1\n",
      " 1 1 0 1 0 1 0 1 1 1 0 1 1 1 1 1 1 1 0 0 0 1 1 1 1 1 1 1 1 1 1 1 0 0 1 0 0\n",
      " 0 1 0 0 1 1 1 1 1 0 1 1 1 1 1 0 1 1 1 0 1 1 0 0 1 1 1 1 1 1 0 1 1 1 1 1 1\n",
      " 1 0 1 1 1 1 1 0 1 1 0 1 1 1 1 1 1 1 1 1 1 1 1 0 1 0 0 1 0 1 1 1 1 1 0 1 1\n",
      " 0 1 0 1 1 0 1 0 1 1 1 1 1 1 1 1 0 0 1 1 1 1 1 1 0 1 1 1 1 1 1 1 1 1 1 0 1\n",
      " 1 1 1 1 1 1 0 1 0 1 1 0 1 1 1 1 1 0 0 1 0 1 0 1 1 1 1 1 0 1 1 0 1 0 1 0 0\n",
      " 1 1 1 0 1 1 1 1 1 1 1 1 1 1 1 0 1 0 0 1 1 1 1 1 1 1 1 1 1 1 1 1 1 1 1 1 1\n",
      " 1 1 1 1 1 1 1 0 0 0 0 0 0 1]\n",
      "Baseline score for nbc_model1: 0.9415204678362573\n"
     ]
    }
   ],
   "source": [
    "''' Using Naive Bayes Classifier as Baseline, Loading Dataset, & Importing necessary dependencies '''\n",
    "import pandas as pd\n",
    "from sklearn.model_selection import train_test_split\n",
    "import tensorflow as tf\n",
    "from sklearn.datasets import load_breast_cancer\n",
    "from sklearn.naive_bayes import GaussianNB\n",
    "\n",
    "# Loading in data and splitting\n",
    "loaded_bc_data = load_breast_cancer()\n",
    "X = loaded_bc_data.data\n",
    "y = loaded_bc_data.target\n",
    "x_train, x_test, y_train, y_test = train_test_split(X, y, test_size=.3, random_state=42)\n",
    "\n",
    "# Printing Num of feautes for hyperparameter tuning\n",
    "print(X.shape[1]) \n",
    "\n",
    "# Printing Loaded Data to see how data is represented\n",
    "print(X, \"\\n\", y)  # Data is standardized and targets are 0, 1, so no modification is needed\n",
    "\n",
    "# Using Naive Bayes Classifier as accuracy baseline\n",
    "nbc_model1 = GaussianNB()\n",
    "nbc_model1.fit(x_train, y_train)\n",
    "nbc_model1_y_pred = nbc_model1.predict(x_test)\n",
    "print(f\"Baseline score for nbc_model1: {nbc_model1.score(x_test, y_test)}\")"
   ]
  },
  {
   "cell_type": "code",
   "execution_count": 48,
   "metadata": {},
   "outputs": [],
   "source": [
    "''' Defining Early Stopping Callback '''\n",
    "# Defining an Early Stopping Function (credit to Logan Kelsch for the idea)\n",
    "early_stopping = tf.keras.callbacks.EarlyStopping(\n",
    "    monitor='val_accuracy',  # Monitor Validation Accuracy\n",
    "    patience=12,             # Wait 12 Epochs for Improvement\n",
    "    restore_best_weights=True\n",
    ")"
   ]
  },
  {
   "cell_type": "code",
   "execution_count": 54,
   "metadata": {},
   "outputs": [
    {
     "name": "stdout",
     "output_type": "stream",
     "text": [
      "Epoch 1/100\n",
      "\u001b[1m13/13\u001b[0m \u001b[32m━━━━━━━━━━━━━━━━━━━━\u001b[0m\u001b[37m\u001b[0m \u001b[1m2s\u001b[0m 18ms/step - accuracy: 0.4743 - loss: 22.5972 - val_accuracy: 0.9357 - val_loss: 0.2067\n",
      "Epoch 2/100\n",
      "\u001b[1m13/13\u001b[0m \u001b[32m━━━━━━━━━━━━━━━━━━━━\u001b[0m\u001b[37m\u001b[0m \u001b[1m0s\u001b[0m 7ms/step - accuracy: 0.7378 - loss: 1.2829 - val_accuracy: 0.9123 - val_loss: 0.5786\n",
      "Epoch 3/100\n",
      "\u001b[1m13/13\u001b[0m \u001b[32m━━━━━━━━━━━━━━━━━━━━\u001b[0m\u001b[37m\u001b[0m \u001b[1m0s\u001b[0m 4ms/step - accuracy: 0.8539 - loss: 0.9781 - val_accuracy: 0.9474 - val_loss: 0.2675\n",
      "Epoch 4/100\n",
      "\u001b[1m13/13\u001b[0m \u001b[32m━━━━━━━━━━━━━━━━━━━━\u001b[0m\u001b[37m\u001b[0m \u001b[1m0s\u001b[0m 5ms/step - accuracy: 0.8973 - loss: 0.5685 - val_accuracy: 0.9474 - val_loss: 0.1733\n",
      "Epoch 5/100\n",
      "\u001b[1m13/13\u001b[0m \u001b[32m━━━━━━━━━━━━━━━━━━━━\u001b[0m\u001b[37m\u001b[0m \u001b[1m0s\u001b[0m 4ms/step - accuracy: 0.8892 - loss: 0.3764 - val_accuracy: 0.9415 - val_loss: 0.1724\n",
      "Epoch 6/100\n",
      "\u001b[1m13/13\u001b[0m \u001b[32m━━━━━━━━━━━━━━━━━━━━\u001b[0m\u001b[37m\u001b[0m \u001b[1m0s\u001b[0m 4ms/step - accuracy: 0.8911 - loss: 0.3031 - val_accuracy: 0.9357 - val_loss: 0.2121\n",
      "Epoch 7/100\n",
      "\u001b[1m13/13\u001b[0m \u001b[32m━━━━━━━━━━━━━━━━━━━━\u001b[0m\u001b[37m\u001b[0m \u001b[1m0s\u001b[0m 4ms/step - accuracy: 0.9205 - loss: 0.2581 - val_accuracy: 0.8070 - val_loss: 0.4145\n",
      "Epoch 8/100\n",
      "\u001b[1m13/13\u001b[0m \u001b[32m━━━━━━━━━━━━━━━━━━━━\u001b[0m\u001b[37m\u001b[0m \u001b[1m0s\u001b[0m 4ms/step - accuracy: 0.8280 - loss: 0.5060 - val_accuracy: 0.9474 - val_loss: 0.1387\n",
      "Epoch 9/100\n",
      "\u001b[1m13/13\u001b[0m \u001b[32m━━━━━━━━━━━━━━━━━━━━\u001b[0m\u001b[37m\u001b[0m \u001b[1m0s\u001b[0m 4ms/step - accuracy: 0.9151 - loss: 0.2563 - val_accuracy: 0.9474 - val_loss: 0.1801\n",
      "Epoch 10/100\n",
      "\u001b[1m13/13\u001b[0m \u001b[32m━━━━━━━━━━━━━━━━━━━━\u001b[0m\u001b[37m\u001b[0m \u001b[1m0s\u001b[0m 5ms/step - accuracy: 0.8999 - loss: 0.2685 - val_accuracy: 0.9298 - val_loss: 0.1725\n",
      "Epoch 11/100\n",
      "\u001b[1m13/13\u001b[0m \u001b[32m━━━━━━━━━━━━━━━━━━━━\u001b[0m\u001b[37m\u001b[0m \u001b[1m0s\u001b[0m 4ms/step - accuracy: 0.8873 - loss: 0.2590 - val_accuracy: 0.9415 - val_loss: 0.1790\n",
      "Epoch 12/100\n",
      "\u001b[1m13/13\u001b[0m \u001b[32m━━━━━━━━━━━━━━━━━━━━\u001b[0m\u001b[37m\u001b[0m \u001b[1m0s\u001b[0m 4ms/step - accuracy: 0.9010 - loss: 0.2507 - val_accuracy: 0.9298 - val_loss: 0.2197\n"
     ]
    },
    {
     "data": {
      "text/plain": [
       "<keras.src.callbacks.history.History at 0x16e37ccc8d0>"
      ]
     },
     "execution_count": 54,
     "metadata": {},
     "output_type": "execute_result"
    }
   ],
   "source": [
    "''' ANN Model 1 '''\n",
    "# Initializing ANN through tensorflow\n",
    "adam_optimizier = tf.keras.optimizers.Adam(learning_rate=.001)\n",
    "ANN_model1 = tf.keras.models.Sequential([\n",
    "    tf.keras.layers.InputLayer(shape=(30,)),  # Input Layer - Each Feature to a Node\n",
    "    tf.keras.layers.Dense(120, activation='relu'),  # First Dense Layer\n",
    "    tf.keras.layers.Dense(30, activation='relu'),  # Second Dense Layer\n",
    "    tf.keras.layers.Dense(15, activation='relu'),  # Third Dense Layer\n",
    "    tf.keras.layers.Dense(2, activation='softmax'),  # Last Dense Layer, classify as yes or no\n",
    "])\n",
    "\n",
    "ANN_model1.compile(optimizer=adam_optimizier, loss='sparse_categorical_crossentropy', metrics=['accuracy'])\n",
    "ANN_model1.fit(x=x_train, y=y_train, validation_data=[x_test, y_test], epochs=100, batch_size=32, verbose=1, callbacks=[early_stopping])"
   ]
  },
  {
   "cell_type": "code",
   "execution_count": null,
   "metadata": {},
   "outputs": [
    {
     "name": "stdout",
     "output_type": "stream",
     "text": [
      "Best Logistic Regression Model: {'C': 1.1, 'penalty': 'l2', 'solver': 'liblinear'}  with score 0.9543238627542309\n",
      "Logistic Regression Score: 0.9707602339181286\n"
     ]
    }
   ],
   "source": [
    "''' Optimizing Logicstic Regression Model '''\n",
    "import numpy as np\n",
    "from sklearn.linear_model import LogisticRegression\n",
    "from sklearn.model_selection import GridSearchCV\n",
    "import warnings\n",
    "\n",
    "warnings.filterwarnings(\"ignore\")  # Ignore Warnings for grid search since some configurations are not compatible\n",
    "\n",
    "# Running Grid Search CV on Logistic Regression to find best parameters\n",
    "log_r_model = LogisticRegression(max_iter=250, random_state=42)\n",
    "params = {\n",
    "    'C':[i for i in np.arange(.8, 1.3, .1)],\n",
    "    'penalty': ['l1', 'l2', 'elasticnet'],\n",
    "    'solver': ['liblinear', 'lbfgs', 'saga', 'newton-cg']\n",
    "}\n",
    "grid_search_logr = GridSearchCV(log_r_model, params, cv=5, n_jobs=-1, error_score=np.nan)  # Supress Warnings\n",
    "grid_search_logr.fit(X, y)\n",
    "\n",
    "# Getting best estimator and finding score\n",
    "print(f\"Best Logistic Regression Model: {grid_search_logr.best_params_}  with score {grid_search_logr.best_score_}\")\n",
    "log_r_model_optimal = grid_search_logr.best_estimator_\n",
    "print(f\"Logistic Regression Score: {log_r_model_optimal.score(x_test, y_test)}\")"
   ]
  },
  {
   "cell_type": "code",
   "execution_count": 61,
   "metadata": {},
   "outputs": [
    {
     "name": "stdout",
     "output_type": "stream",
     "text": [
      "Classification Report for Logistic Regression Model:\n",
      "              precision    recall  f1-score   support\n",
      "\n",
      "           0       0.97      0.95      0.96        63\n",
      "           1       0.97      0.98      0.98       108\n",
      "\n",
      "    accuracy                           0.97       171\n",
      "   macro avg       0.97      0.97      0.97       171\n",
      "weighted avg       0.97      0.97      0.97       171\n",
      "\n"
     ]
    },
    {
     "data": {
      "image/png": "[encoded data removed]",
      "text/plain": [
       "<Figure size 640x480 with 2 Axes>"
      ]
     },
     "metadata": {},
     "output_type": "display_data"
    }
   ],
   "source": [
    "''' Making Classification Report + Confusion Matrix for Best Estimator (Logistic Regression) '''\n",
    "from sklearn.metrics import classification_report, confusion_matrix, ConfusionMatrixDisplay\n",
    "import matplotlib.pyplot as plt\n",
    "\n",
    "# Getting Prediction from Logistic Regression Model\n",
    "y_pred_1 = log_r_model_optimal.predict(x_test)\n",
    "\n",
    "# Outputting Classification Report\n",
    "print(f\"Classification Report for Logistic Regression Model:\\n{classification_report(y_test, y_pred_1)}\")\n",
    "\n",
    "# Displaying Confusion Matrix\n",
    "cm_1 = confusion_matrix(y_test, y_pred_1)\n",
    "dispcm_1 = ConfusionMatrixDisplay(cm_1)\n",
    "dispcm_1.plot()\n",
    "plt.show()"
   ]
  },
  {
   "cell_type": "markdown",
   "metadata": {},
   "source": [
    "### Optimizing Ensemble Classifier"
   ]
  },
  {
   "cell_type": "code",
   "execution_count": null,
   "metadata": {},
   "outputs": [
    {
     "name": "stdout",
     "output_type": "stream",
     "text": [
      "Best Parameters: RandomForestClassifier(max_depth=10, min_samples_leaf=2, min_samples_split=6,\n",
      "                       n_jobs=-1, random_state=42)\n",
      "Best Score: 0.9631268436578171\n"
     ]
    }
   ],
   "source": [
    "''' Using Random Forest '''\n",
    "from sklearn.ensemble import RandomForestClassifier\n",
    "\n",
    "# Creating Classifier\n",
    "rand_forest_model_1 = RandomForestClassifier(n_jobs=-1, random_state=42)\n",
    "\n",
    "# Finding optimal parameters using GridSearchCV\n",
    "params = {\n",
    "    'n_estimators': [i for i in range(100, 600, 100)],  # Tuned as needed\n",
    "    'max_depth': [i for i in range(10, 100, 10)],\n",
    "    'min_samples_split': [i for i in range(2, 11, 1)],\n",
    "    'min_samples_leaf': [i for i in range(1, 6, 1)]\n",
    "}\n",
    "grid_search_rf = GridSearchCV(rand_forest_model_1, params, cv=5, n_jobs=-1)\n",
    "grid_search_rf.fit(X, y)\n",
    "print(f\"Best Parameters: {grid_search_rf.best_estimator_}\")\n",
    "print(f\"Best Score: {grid_search_rf.best_score_}\")\n",
    "\n",
    "''' Output:\n",
    "Best Parameters: max_depth=10, min_samples_leaf=2, min_samples_split=6, n_jobs=-1, random_state=42\n",
    "Best Score: 0.9631268436578171\n",
    "'''"
   ]
  },
  {
   "cell_type": "code",
   "execution_count": 66,
   "metadata": {},
   "outputs": [
    {
     "name": "stdout",
     "output_type": "stream",
     "text": [
      "Best Parameters: RandomForestClassifier(max_depth=8, min_samples_split=6, n_estimators=200,\n",
      "                       n_jobs=-1, random_state=42)\n",
      "Best Score: 0.9631113181183046\n",
      "Optimizing Random Forest Score: 1.0\n",
      "Classification Report:\n",
      "              precision    recall  f1-score   support\n",
      "\n",
      "           0       1.00      1.00      1.00        63\n",
      "           1       1.00      1.00      1.00       108\n",
      "\n",
      "    accuracy                           1.00       171\n",
      "   macro avg       1.00      1.00      1.00       171\n",
      "weighted avg       1.00      1.00      1.00       171\n",
      "\n"
     ]
    },
    {
     "data": {
      "image/png": "[encoded data removed]",
      "text/plain": [
       "<Figure size 640x480 with 2 Axes>"
      ]
     },
     "metadata": {},
     "output_type": "display_data"
    }
   ],
   "source": [
    "''' Further optimizing model & outputting metrics '''\n",
    "params_2 = {\n",
    "    'max_depth': [i for i in range(8, 15, 1)],\n",
    "    'n_estimators': [i for i in range(200, 600, 100)],  # Limited due to computational expendenture\n",
    "    'min_samples_split': [i for i in range(5, 8)]\n",
    "}\n",
    "grid_search_rf_2 = GridSearchCV(rand_forest_model_1, params_2, cv=5, n_jobs=-1)\n",
    "grid_search_rf_2.fit(X, y)\n",
    "print(f\"Best Parameters: {grid_search_rf_2.best_estimator_}\")\n",
    "print(f\"Best Score: {grid_search_rf_2.best_score_}\")\n",
    "rand_forest_model_optimal_1 = grid_search_rf_2.best_estimator_\n",
    "print(f\"Optimizing Random Forest Score: {rand_forest_model_optimal_1.score(x_test, y_test)}\")\n",
    "y_pred_rf_1 = rand_forest_model_optimal_1.predict(x_test)\n",
    "print(f\"Classification Report:\\n{classification_report(y_test, y_pred_rf_1)}\")\n",
    "cm = confusion_matrix(y_test, y_pred_rf_1)\n",
    "cmDisp2 = ConfusionMatrixDisplay(cm)\n",
    "cmDisp2.plot()\n",
    "plt.show()"
   ]
  },
  {
   "cell_type": "markdown",
   "metadata": {},
   "source": [
    "# Classification of Attached Dataset"
   ]
  }
 ],
 "metadata": {
  "kernelspec": {
   "display_name": "base",
   "language": "python",
   "name": "python3"
  },
  "language_info": {
   "codemirror_mode": {
    "name": "ipython",
    "version": 3
   },
   "file_extension": ".py",
   "mimetype": "text/x-python",
   "name": "python",
   "nbconvert_exporter": "python",
   "pygments_lexer": "ipython3",
   "version": "3.11.7"
  }
 },
 "nbformat": 4,
 "nbformat_minor": 2
}
